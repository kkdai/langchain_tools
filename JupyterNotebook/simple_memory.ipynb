{
 "cells": [
  {
   "cell_type": "code",
   "execution_count": 3,
   "metadata": {},
   "outputs": [
    {
     "data": {
      "text/plain": [
       "True"
      ]
     },
     "execution_count": 3,
     "metadata": {},
     "output_type": "execute_result"
    }
   ],
   "source": [
    "from dotenv import load_dotenv\n",
    "import os\n",
    "import pickle\n",
    "\n",
    "# Laden Sie die Umgebungsvariablen aus der .env-Datei\n",
    "load_dotenv()"
   ]
  },
  {
   "cell_type": "code",
   "execution_count": 4,
   "metadata": {},
   "outputs": [],
   "source": [
    "from langchain.llms import OpenAI\n",
    "from langchain.chains import LLMChain\n",
    "from langchain.prompts import PromptTemplate"
   ]
  },
  {
   "cell_type": "code",
   "execution_count": 5,
   "metadata": {},
   "outputs": [],
   "source": [
    "# This is an LLMChain to write a synopsis given a title of a play.\n",
    "llm = OpenAI(temperature=.7)\n",
    "template = \"\"\"You are a playwright. Given the title of play, it is your job to write a synopsis for that title.\n",
    "\n",
    "Title: {title}\n",
    "Playwright: This is a synopsis for the above play:\"\"\"\n",
    "prompt_template = PromptTemplate(input_variables=[\"title\"], template=template)\n",
    "synopsis_chain = LLMChain(llm=llm, prompt=prompt_template)"
   ]
  },
  {
   "cell_type": "code",
   "execution_count": 6,
   "metadata": {},
   "outputs": [],
   "source": [
    "# This is an LLMChain to write a review of a play given a synopsis.\n",
    "llm = OpenAI(temperature=.7)\n",
    "template = \"\"\"You are a play critic from the New York Times. Given the synopsis of play, it is your job to write a review for that play.\n",
    "\n",
    "Play Synopsis:\n",
    "{synopsis}\n",
    "Review from a New York Times play critic of the above play:\"\"\"\n",
    "prompt_template = PromptTemplate(input_variables=[\"synopsis\"], template=template)\n",
    "review_chain = LLMChain(llm=llm, prompt=prompt_template)"
   ]
  },
  {
   "cell_type": "code",
   "execution_count": 7,
   "metadata": {},
   "outputs": [],
   "source": [
    "# This is the overall chain where we run these two chains in sequence.\n",
    "from langchain.chains import SimpleSequentialChain\n",
    "overall_chain = SimpleSequentialChain(chains=[synopsis_chain, review_chain], verbose=True)"
   ]
  },
  {
   "cell_type": "code",
   "execution_count": 8,
   "metadata": {},
   "outputs": [
    {
     "name": "stdout",
     "output_type": "stream",
     "text": [
      "\n",
      "\n",
      "\u001b[1m> Entering new  chain...\u001b[0m\n",
      "\u001b[36;1m\u001b[1;3m\n",
      "\n",
      "Tragedy at Sunset on the Beach is a powerful drama about a young couple living in a small beach town in the south. They have been together since they were teenagers and have recently had their first child together. Just before sunset, they decide to take a walk on the beach to celebrate their new addition to the family. \n",
      "\n",
      "But their joy and celebration is quickly cut short when they stumble upon a crime scene. A young woman has been brutally murdered and the police are currently investigating the scene. As the couple watches in horror, the detectives uncover evidence that the murderer is still on the loose and could be watching them from the shadows.\n",
      "\n",
      "The couple is faced with a difficult decision; do they stay and help solve the mystery or do they flee to protect their own safety? As the sun sets, they must make a choice that could forever alter the course of their lives. Tragedy at Sunset on the Beach is a gripping story of love, loss, and the power of second chances.\u001b[0m\n",
      "\u001b[33;1m\u001b[1;3m\n",
      "\n",
      "Tragedy at Sunset on the Beach is a captivating and emotionally powerful drama that will leave audiences breathless. The story follows a young couple living in a small beach town in the south, who have recently had their first child together. Just as they are celebrating their new addition to the family, they stumble upon a crime scene - a young woman has been brutally murdered and the police are investigating the scene.\n",
      "\n",
      "The couple soon finds themselves face to face with a difficult decision, do they stay and help solve the mystery or do they flee to protect their own safety? The play examines the power of love in the face of fear and tragedy, as the couple grapple with the consequences of their decision.\n",
      "\n",
      "The performances are outstanding, with each actor bringing a unique energy to their roles. The dialogue is poignant and powerful, and the tension builds slowly and steadily throughout the play. The set design is also excellent, immersing viewers in the atmosphere of the small beach town.\n",
      "\n",
      "Tragedy at Sunset on the Beach is a gripping story of love, loss, and the power of second chances. It is sure to leave a lasting impression on audiences, and is highly recommended.\u001b[0m\n",
      "\n",
      "\u001b[1m> Finished chain.\u001b[0m\n"
     ]
    }
   ],
   "source": [
    "review = overall_chain.run(\"Tragedy at sunset on the beach\")"
   ]
  },
  {
   "cell_type": "code",
   "execution_count": 10,
   "metadata": {},
   "outputs": [
    {
     "name": "stdout",
     "output_type": "stream",
     "text": [
      "\n",
      "\n",
      "Tragedy at Sunset on the Beach is a captivating and emotionally powerful drama that will leave audiences breathless. The story follows a young couple living in a small beach town in the south, who have recently had their first child together. Just as they are celebrating their new addition to the family, they stumble upon a crime scene - a young woman has been brutally murdered and the police are investigating the scene.\n",
      "\n",
      "The couple soon finds themselves face to face with a difficult decision, do they stay and help solve the mystery or do they flee to protect their own safety? The play examines the power of love in the face of fear and tragedy, as the couple grapple with the consequences of their decision.\n",
      "\n",
      "The performances are outstanding, with each actor bringing a unique energy to their roles. The dialogue is poignant and powerful, and the tension builds slowly and steadily throughout the play. The set design is also excellent, immersing viewers in the atmosphere of the small beach town.\n",
      "\n",
      "Tragedy at Sunset on the Beach is a gripping story of love, loss, and the power of second chances. It is sure to leave a lasting impression on audiences, and is highly recommended.\n"
     ]
    }
   ],
   "source": [
    "print(review)"
   ]
  },
  {
   "attachments": {},
   "cell_type": "markdown",
   "metadata": {},
   "source": [
    "# Ordering"
   ]
  },
  {
   "cell_type": "code",
   "execution_count": 11,
   "metadata": {},
   "outputs": [],
   "source": [
    "# This is an LLMChain to write a synopsis given a title of a play and the era it is set in.\n",
    "llm = OpenAI(temperature=.7)\n",
    "template = \"\"\"You are a playwright. Given the title of play and the era it is set in, it is your job to write a synopsis for that title.\n",
    "\n",
    "Title: {title}\n",
    "Era: {era}\n",
    "Playwright: This is a synopsis for the above play:\"\"\"\n",
    "prompt_template = PromptTemplate(input_variables=[\"title\", \"era\"], template=template)\n",
    "synopsis_chain = LLMChain(llm=llm, prompt=prompt_template, output_key=\"synopsis\")"
   ]
  },
  {
   "cell_type": "code",
   "execution_count": 12,
   "metadata": {},
   "outputs": [],
   "source": [
    "# This is an LLMChain to write a review of a play given a synopsis.\n",
    "llm = OpenAI(temperature=.7)\n",
    "template = \"\"\"You are a play critic from the New York Times. Given the synopsis of play, it is your job to write a review for that play.\n",
    "\n",
    "Play Synopsis:\n",
    "{synopsis}\n",
    "Review from a New York Times play critic of the above play:\"\"\"\n",
    "prompt_template = PromptTemplate(input_variables=[\"synopsis\"], template=template)\n",
    "review_chain = LLMChain(llm=llm, prompt=prompt_template, output_key=\"review\")"
   ]
  },
  {
   "cell_type": "code",
   "execution_count": 13,
   "metadata": {},
   "outputs": [],
   "source": [
    "# This is the overall chain where we run these two chains in sequence.\n",
    "from langchain.chains import SequentialChain\n",
    "overall_chain = SequentialChain(\n",
    "    chains=[synopsis_chain, review_chain],\n",
    "    input_variables=[\"era\", \"title\"],\n",
    "    # Here we return multiple variables\n",
    "    output_variables=[\"synopsis\", \"review\"],\n",
    "    verbose=True)"
   ]
  },
  {
   "cell_type": "code",
   "execution_count": 14,
   "metadata": {},
   "outputs": [
    {
     "name": "stdout",
     "output_type": "stream",
     "text": [
      "\n",
      "\n",
      "\u001b[1m> Entering new  chain...\u001b[0m\n",
      "\n",
      "\u001b[1m> Finished chain.\u001b[0m\n"
     ]
    },
    {
     "data": {
      "text/plain": [
       "{'title': 'Tragedy at sunset on the beach',\n",
       " 'era': 'Victorian England',\n",
       " 'synopsis': \"\\n\\nTragedy at Sunset on the Beach is set in Victorian England, and tells the story of a young woman, Emma, and her forbidden love for a dashing stranger. Emma has lived an uneventful life in a small coastal town. One day, while out on the beach, she meets a mysterious stranger, who sweeps her off her feet with his passionate and captivating words.\\n\\nThough Emma's parents disapprove of their daughter's relationship with the stranger, they do not forbid it as they know how much she means to him. However, their happiness is short lived as the stranger is revealed to be a fugitive wanted by the authorities. Emma is forced to make a difficult decision - help the man she loves escape or save her family's good name.\\n\\nThe play follows Emma's tumultuous journey as she is forced to choose between her love and her family. As the play progresses, tragedy ensues and the sun sets on the beach, leaving the audience to question both Emma's fate and the consequences of her decisions.\",\n",
       " 'review': \"\\n\\nTragedy at Sunset on the Beach is a captivating and compelling story of young love, the power of familial obligation, and the impossible choices we make in life. The play, set in Victorian England, follows the journey of Emma, a young woman who meets a mysterious stranger on the beach and falls in love. Though their relationship is forbidden, Emma's parents do not forbid it as they know how much she means to him. However, when the stranger is revealed to be a fugitive, Emma is forced to make a difficult decision between her love and her family.\\n\\nThe play is beautifully written and directed, with a talented cast that brings the characters and their struggles to life. The set and costumes are also impressive, transporting the audience to the Victorian era. The play's climax is particularly moving, leaving the audience to contemplate the consequences of Emma's decisions and the tragedy of the situation. \\n\\nOverall, Tragedy at Sunset on the Beach is an emotional and powerful piece of theatre that is sure to leave audiences moved. It is a touching story of love and loss and is highly recommended.\"}"
      ]
     },
     "execution_count": 14,
     "metadata": {},
     "output_type": "execute_result"
    }
   ],
   "source": [
    "overall_chain({\"title\":\"Tragedy at sunset on the beach\", \"era\": \"Victorian England\"})"
   ]
  },
  {
   "cell_type": "code",
   "execution_count": 17,
   "metadata": {},
   "outputs": [
    {
     "name": "stdout",
     "output_type": "stream",
     "text": [
      "\n",
      "\n",
      "\u001b[1m> Entering new  chain...\u001b[0m\n",
      "\n",
      "\u001b[1m> Finished chain.\u001b[0m\n"
     ]
    },
    {
     "data": {
      "text/plain": [
       "{'title': 'Tragedy at sunset on the beach',\n",
       " 'era': 'Victorian England',\n",
       " 'time': 'December 25th, 8pm PST',\n",
       " 'location': 'Theater in the Park',\n",
       " 'social_post_text': 'Experience a powerful and heartbreaking story of love and loss this holiday season! On December 25th at 8pm PST, join us at the Theater in the Park for Tragedy at Sunset on the Beach. Our production captures the tragedy of this moment with powerful emotion and a set that evokes the beauty of the beach and the sadness of the moment. Don’t miss this touching reminder of the power of love! #TragedyAtSunsetOnTheBeach #LoveConquersAll'}"
      ]
     },
     "execution_count": 17,
     "metadata": {},
     "output_type": "execute_result"
    }
   ],
   "source": [
    "from langchain.chains import SequentialChain\n",
    "from langchain.memory import SimpleMemory\n",
    "\n",
    "llm = OpenAI(temperature=.7)\n",
    "template = \"\"\"You are a social media manager for a theater company.  Given the title of play, the era it is set in, the date,time and location, the synopsis of the play, and the review of the play, it is your job to write a social media post for that play.\n",
    "\n",
    "Here is some context about the time and location of the play:\n",
    "Date and Time: {time}\n",
    "Location: {location}\n",
    "\n",
    "Play Synopsis:\n",
    "{synopsis}\n",
    "Review from a New York Times play critic of the above play:\n",
    "{review}\n",
    "\n",
    "Social Media Post:\n",
    "\"\"\"\n",
    "prompt_template = PromptTemplate(input_variables=[\"synopsis\", \"review\", \"time\", \"location\"], template=template)\n",
    "social_chain = LLMChain(llm=llm, prompt=prompt_template, output_key=\"social_post_text\")\n",
    "\n",
    "memory = SimpleMemory(memories={\"time\": \"December 25th, 8pm PST\", \"location\": \"Theater in the Park\"})\n",
    "overall_chain = SequentialChain(\n",
    "    memory=memory,\n",
    "    chains=[synopsis_chain, review_chain, social_chain],\n",
    "    input_variables=[\"era\", \"title\"],\n",
    "    # Here we return multiple variables\n",
    "    output_variables=[\"social_post_text\"],\n",
    "    verbose=True)\n",
    "\n",
    "overall_chain({\"title\":\"Tragedy at sunset on the beach\", \"era\": \"Victorian England\"})"
   ]
  },
  {
   "cell_type": "code",
   "execution_count": 22,
   "metadata": {},
   "outputs": [
    {
     "name": "stdout",
     "output_type": "stream",
     "text": [
      "\n",
      "\n",
      "\u001b[1m> Entering new  chain...\u001b[0m\n",
      "\n",
      "\u001b[1m> Finished chain.\u001b[0m\n"
     ]
    },
    {
     "data": {
      "text/plain": [
       "\"\\nCome join us at Theater in the Park on December 25th at 8pm PST to experience the heart-warming and thought-provoking story of Cloud Summit. Follow Chen Mei's journey of resilience and self-discovery as she navigates the turbulent waters of business and politics in the bustling city of Taipei. Don't miss this inspiring and empowering play - get your tickets now! #CloudSummit #Theater #Inspiration\""
      ]
     },
     "execution_count": 22,
     "metadata": {},
     "output_type": "execute_result"
    }
   ],
   "source": [
    "overall_chain({\"title\":\"Cloud Summit\", \"era\": \"Taipei city\"})"
   ]
  }
 ],
 "metadata": {
  "kernelspec": {
   "display_name": "base",
   "language": "python",
   "name": "python3"
  },
  "language_info": {
   "codemirror_mode": {
    "name": "ipython",
    "version": 3
   },
   "file_extension": ".py",
   "mimetype": "text/x-python",
   "name": "python",
   "nbconvert_exporter": "python",
   "pygments_lexer": "ipython3",
   "version": "3.10.11"
  },
  "orig_nbformat": 4
 },
 "nbformat": 4,
 "nbformat_minor": 2
}
