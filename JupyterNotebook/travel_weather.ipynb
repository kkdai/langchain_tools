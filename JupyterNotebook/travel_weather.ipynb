{
 "cells": [
  {
   "cell_type": "code",
   "execution_count": null,
   "metadata": {},
   "outputs": [],
   "source": [
    "from dotenv import load_dotenv\n",
    "import os\n",
    "import pickle\n",
    "\n",
    "# Laden Sie die Umgebungsvariablen aus der .env-Datei\n",
    "load_dotenv()\n",
    "API_KEY = os.environ.get(\"OPEN_API_KEY\")"
   ]
  },
  {
   "cell_type": "code",
   "execution_count": null,
   "metadata": {},
   "outputs": [],
   "source": [
    "import requests\n",
    "import json\n",
    "\n",
    "from langchain.tools import BaseTool\n",
    "from langchain.agents import AgentType\n",
    "from typing import Optional, Type\n",
    "from pydantic import BaseModel, Field\n",
    "\n",
    "class WeatherDataInput(BaseModel):\n",
    "    \"\"\"Get weather data input parameters.\"\"\"\n",
    "    limit: Optional[int] = Field(\n",
    "        None, description=\"The max data count to return, return all by default\")\n",
    "    offset: Optional[int] = Field(\n",
    "        None, description=\"The start index of data to return, start from 0 by default\")\n",
    "    format: str = Field(\n",
    "        'json', description=\"The data format to return, json format by default\")\n",
    "    location_name: Optional[str] = Field(\n",
    "        None, description=\"The cities in Taiwan, return all cities by default\")\n",
    "    element_name: Optional[list] = Field(\n",
    "        None, description=\"The weather factors, return all by default\")\n",
    "    sort: Optional[str] = Field(\n",
    "        None, description=\"Sort by 'startTime', 'endTime', no sort by default\")\n",
    "    start_time: Optional[list] = Field(\n",
    "        None, description=\"The time factor, format as 'yyyy-MM-ddThh:mm:ss', return all by default\")\n",
    "    time_from: Optional[str] = Field(\n",
    "        None, description=\"The start time for time range filter, format as 'yyyy-MM-ddThh:mm:ss', return all by default\")\n",
    "    time_to: Optional[str] = Field(\n",
    "        None, description=\"The end time for time range filter, format as 'yyyy-MM-ddThh:mm:ss', return all by default\")\n",
    "\n",
    "\n",
    "class WeatherDataTool(BaseTool):\n",
    "    name = \"get_weather_data\"\n",
    "    description = \"Get the weather data for Taiwan\"\n",
    "\n",
    "    def _run(self, input: WeatherDataInput):\n",
    "        weather_data_results = get_weather_data(input)\n",
    "\n",
    "        return weather_data_results\n",
    "\n",
    "    def _arun(self, input: WeatherDataInput):\n",
    "        raise NotImplementedError(\"This tool does not support async\")\n",
    "\n",
    "    args_schema: Optional[Type[BaseModel]] = WeatherDataInput\n",
    "\n",
    "\n",
    "def get_weather_data(limit=None, offset=None, format='json', location_name=None,\n",
    "                     element_name=None, sort=None, start_time=None, time_from=None, time_to=None):\n",
    "\n",
    "    url = 'https://opendata.cwb.gov.tw/api/v1/rest/datastore/F-C0032-001'\n",
    "\n",
    "    headers = {'accept': 'application/json'}\n",
    "\n",
    "    query = {\n",
    "        'Authorization': 'CWB-B32D114C-29B2-46D0-BF64-291C514502A0', 'format': format}\n",
    "\n",
    "    if limit is not None:\n",
    "        query['limit'] = limit\n",
    "\n",
    "    if offset is not None:\n",
    "        query['offset'] = offset\n",
    "\n",
    "    if location_name is not None:\n",
    "        query['locationName'] = ','.join(location_name)\n",
    "\n",
    "    if element_name is not None:\n",
    "        query['elementName'] = ','.join(element_name)\n",
    "\n",
    "    if sort is not None:\n",
    "        query['sort'] = sort\n",
    "\n",
    "    if start_time is not None:\n",
    "        query['startTime'] = ','.join(start_time)\n",
    "\n",
    "    if time_from is not None:\n",
    "        query['timeFrom'] = time_from\n",
    "\n",
    "    if time_to is not None:\n",
    "        query['timeTo'] = time_to\n",
    "\n",
    "    response = requests.get(url, headers=headers, params=query)\n",
    "\n",
    "    if response.status_code == 200:\n",
    "        return response.json()\n",
    "    else:\n",
    "        return response.status_code\n",
    "\n"
   ]
  },
  {
   "cell_type": "code",
   "execution_count": null,
   "metadata": {},
   "outputs": [],
   "source": [
    "# Tools as OpenAI Functions\n",
    "# Make sure langchain version after 0.0.202\n",
    "# pip install --upgrade --force-reinstall langchain\n",
    "\n",
    "import json\n",
    "from langchain.tools import MoveFileTool, format_tool_to_openai_function\n",
    "from langchain.chat_models import ChatOpenAI\n",
    "from langchain.agents import AgentType\n",
    "from langchain.agents import initialize_agent, Tool\n",
    "from langchain.schema import HumanMessage\n",
    "\n",
    "model = ChatOpenAI(model=\"gpt-3.5-turbo-0613\")\n",
    "\n",
    "# tools = [TravelPOITool(), TravelTicketTool(),\n",
    "#         TravelExpTool(), WeatherDataTool()]\n",
    "tools = [WeatherDataTool()]\n",
    "\n",
    "# 取得 MoveFileTool 所有的 functions 接口\n",
    "functions = [format_tool_to_openai_function(t) for t in tools]"
   ]
  },
  {
   "cell_type": "code",
   "execution_count": null,
   "metadata": {},
   "outputs": [],
   "source": [
    "\n",
    "question = \"幫我查台北市天氣\"\n"
   ]
  },
  {
   "cell_type": "code",
   "execution_count": null,
   "metadata": {},
   "outputs": [],
   "source": [
    "# tool_result = open_ai_agent.run(question)\n",
    "ai_message = model.predict_messages(\n",
    "    [HumanMessage(content=question)], functions=functions\n",
    ")\n"
   ]
  },
  {
   "cell_type": "code",
   "execution_count": null,
   "metadata": {},
   "outputs": [],
   "source": [
    "ai_message"
   ]
  },
  {
   "cell_type": "code",
   "execution_count": null,
   "metadata": {},
   "outputs": [],
   "source": [
    "_args = json.loads(\n",
    "    ai_message.additional_kwargs['function_call'].get('arguments'))\n",
    "print(_args)\n",
    "tools[0]\n",
    "print(tools)"
   ]
  },
  {
   "cell_type": "code",
   "execution_count": null,
   "metadata": {},
   "outputs": [],
   "source": [
    "tool_result = tools[0](_args)\n",
    "print(\"Answer: \", tool_result)"
   ]
  }
 ],
 "metadata": {
  "kernelspec": {
   "display_name": "base",
   "language": "python",
   "name": "python3"
  },
  "language_info": {
   "codemirror_mode": {
    "name": "ipython",
    "version": 3
   },
   "file_extension": ".py",
   "mimetype": "text/x-python",
   "name": "python",
   "nbconvert_exporter": "python",
   "pygments_lexer": "ipython3",
   "version": "3.10.11"
  },
  "orig_nbformat": 4
 },
 "nbformat": 4,
 "nbformat_minor": 2
}
