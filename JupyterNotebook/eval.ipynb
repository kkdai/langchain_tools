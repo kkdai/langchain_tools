{
 "cells": [
  {
   "cell_type": "code",
   "execution_count": 1,
   "metadata": {},
   "outputs": [
    {
     "data": {
      "text/plain": [
       "True"
      ]
     },
     "execution_count": 1,
     "metadata": {},
     "output_type": "execute_result"
    }
   ],
   "source": [
    "from dotenv import load_dotenv\n",
    "import os\n",
    "import pickle\n",
    "\n",
    "# Laden Sie die Umgebungsvariablen aus der .env-Datei\n",
    "load_dotenv()"
   ]
  },
  {
   "cell_type": "code",
   "execution_count": 2,
   "metadata": {},
   "outputs": [],
   "source": [
    "from langchain.chains import ConversationalRetrievalChain\n",
    "from langchain.chat_models import ChatOpenAI\n",
    "from langchain.document_loaders import PyPDFLoader\n",
    "from langchain.embeddings import OpenAIEmbeddings\n",
    "from langchain.memory import ConversationBufferMemory\n",
    "from langchain.vectorstores import Chroma\n",
    "\n",
    "\n",
    "loader = PyPDFLoader(\"./The-AI-Act.pdf\")\n",
    "pages = loader.load_and_split()\n",
    "\n",
    "\n"
   ]
  },
  {
   "cell_type": "code",
   "execution_count": 4,
   "metadata": {},
   "outputs": [
    {
     "data": {
      "text/plain": [
       "Document(page_content='EN 4  EN 1.2. Consistency with existing policy pr ovisions in the policy area  \\nThe horizontal nature of the proposal requires full consistency with existing Union legislation \\napplicable to sectors where high -risk AI systems are already used or likely to be used in the \\nnear future.  \\nConsistency is also ensu red with the EU Charter of Fundamental Rights and the existing \\nsecondary Union legislation on data protection, consumer protection, non -discrimination and \\ngender equality. The proposal is without prejudice and complements the General Data \\nProtection Regula tion (Regulation (EU) 2016/679) and the Law Enforcement Directive \\n(Directive (EU) 2016/680) with a set of harmonised rules applicable to the design, \\ndevelopment and use of certain high -risk AI systems and restrictions on certain uses of remote \\nbiometric id entification systems. Furthermore, the proposal complements existing Union law \\non non -discrimination with specific requirements that aim to minimise the risk of algorithmic \\ndiscrimination, in particular in relation to the design and the quality of data set s used for the \\ndevelopment of AI systems complemented with obligations for testing, risk management, \\ndocumentation and human oversight throughout the AI systems’ lifecycle. The proposal is \\nwithout prejudice to the application of Union competition law.  \\nAs regards high-risk AI systems which are safety components of products, this proposal will \\nbe integrated into the existing sectoral safety legislation to ensure consistency, avoid \\nduplications and minimise additional burdens. In particular, as regards  high-risk AI systems \\nrelated to products covered by the New Legislative Framework (NLF) legislation (e.g. \\nmachinery, medical devices, toys), the requirements for AI systems set out in this proposal \\nwill be checked as part of the existing conformity assessment pro cedures under the relevant \\nNLF legislation. With regard to the interplay of requirements, while the safety risks specific \\nto AI systems are meant to be covered by the requirements of this proposal, NLF legislation \\naims at ensuring the overall safety of the  final product and therefore may contain specific \\nrequirements regarding the safe integration of an AI system into the final product. The \\nproposal for a Machinery Regulation, which is adopted on the same day as this proposal fully \\nreflects this approach. As regards high-risk AI systems related to products  covered by relevant \\nOld Approach legislation (e.g. aviation, cars), this proposal would not directly apply. \\nHowever, the ex -ante essential requirements for high -risk AI systems set out in this proposal \\nwill have to be taken into account when adopting relevant implementing or delegated \\nlegislation under those acts.  \\nAs regards AI systems provided or used by regulated credit institutions , the authorities \\nresponsible for the supervision of the Union’s financial  services legislation should be \\ndesignated as competent authorities for supervising the requirements in this proposal to ensure \\na coherent enforcement of the obligations under this proposal and the Union’s financial \\nservices legislation where AI systems ar e to some extent implicitly regulated in relation to the \\ninternal governance system of credit institutions . To further enhance consistency, the \\nconformity assessment procedure and some of the providers’ procedural obligations under this \\nproposal are integr ated into the procedures under Directive 2013/36/EU on access to the \\nactivity of credit institutions and the prudential supervision14.  \\n                                                 \\n14 Directive 2013/36/EU of the European Parliament and of the Council of 26 June 2013 on access to the \\nactivity of credit institutions and the prudential supervision of credit institutions and investment firms, \\namending Directive 2002 /87/EC and repealing Directives 2006/48/EC and 2006/49/EC Text with EEA \\nrelevance, OJ L 176, 27.6.2013, p. 338 –436.', metadata={'source': './The-AI-Act.pdf', 'page': 4})"
      ]
     },
     "execution_count": 4,
     "metadata": {},
     "output_type": "execute_result"
    }
   ],
   "source": [
    "pages[5]"
   ]
  },
  {
   "cell_type": "code",
   "execution_count": 5,
   "metadata": {},
   "outputs": [],
   "source": [
    "from langchain.evaluation.qa import QAGenerateChain\n",
    "example_gen_chain = QAGenerateChain.from_llm(ChatOpenAI())"
   ]
  },
  {
   "cell_type": "code",
   "execution_count": 6,
   "metadata": {},
   "outputs": [
    {
     "name": "stderr",
     "output_type": "stream",
     "text": [
      "/Users/al02286558/anaconda3/lib/python3.10/site-packages/langchain/chains/llm.py:303: UserWarning: The apply_and_parse method is deprecated, instead pass an output parser directly to LLMChain.\n",
      "  warnings.warn(\n"
     ]
    }
   ],
   "source": [
    "new_examples = example_gen_chain.apply_and_parse(\n",
    "    [{\"doc\": t} for t in pages[:5]]\n",
    ")"
   ]
  },
  {
   "cell_type": "code",
   "execution_count": 7,
   "metadata": {},
   "outputs": [
    {
     "data": {
      "text/plain": [
       "{'query': 'When was the proposal for the Regulation of the European Parliament and of the Council laying down harmonized rules on Artificial Intelligence (AI) presented?',\n",
       " 'answer': 'The proposal for the Regulation of the European Parliament and of the Council laying down harmonized rules on Artificial Intelligence (AI) was presented on April 21, 2021.'}"
      ]
     },
     "execution_count": 7,
     "metadata": {},
     "output_type": "execute_result"
    }
   ],
   "source": [
    "new_examples[0]"
   ]
  },
  {
   "cell_type": "code",
   "execution_count": 12,
   "metadata": {},
   "outputs": [],
   "source": [
    "examples = [\n",
    "    {\n",
    "        'query': 'When was the proposal for the Regulation of the European Parliament and of the Council laying down harmonized rules on Artificial Intelligence (AI) presented?',\n",
    "        'answer': 'The proposal for the Regulation of the European Parliament and of the Council laying down harmonized rules on Artificial Intelligence (AI) was presented on April 21, 2021.'\n",
    "    }\n",
    "]"
   ]
  },
  {
   "cell_type": "code",
   "execution_count": 8,
   "metadata": {},
   "outputs": [],
   "source": [
    "# Creating embeddings and Vectorization\n",
    "embeddings = OpenAIEmbeddings()\n",
    "vectordb = Chroma.from_documents(pages,\n",
    "                                    embedding=embeddings,\n",
    "                                    persist_directory=\".\")\n",
    "vectordb.persist()\n"
   ]
  },
  {
   "cell_type": "code",
   "execution_count": 10,
   "metadata": {},
   "outputs": [],
   "source": [
    "from langchain.chains import RetrievalQA\n",
    "llm = ChatOpenAI(temperature=0.9)\n",
    "qa = RetrievalQA.from_chain_type(\n",
    "    llm=llm, \n",
    "    chain_type=\"stuff\", \n",
    "    retriever=vectordb.as_retriever(), \n",
    "    verbose=True,\n",
    "    chain_type_kwargs = {\n",
    "        \"document_separator\": \"<<<<>>>>>\"\n",
    "    }\n",
    ")"
   ]
  },
  {
   "cell_type": "code",
   "execution_count": 13,
   "metadata": {},
   "outputs": [],
   "source": [
    "examples += new_examples"
   ]
  },
  {
   "cell_type": "code",
   "execution_count": 14,
   "metadata": {},
   "outputs": [
    {
     "name": "stdout",
     "output_type": "stream",
     "text": [
      "\n",
      "\n",
      "\u001b[1m> Entering new  chain...\u001b[0m\n",
      "\n",
      "\u001b[1m> Finished chain.\u001b[0m\n"
     ]
    },
    {
     "data": {
      "text/plain": [
       "'The proposal for the Regulation of the European Parliament and of the Council laying down harmonized rules on Artificial Intelligence (AI) was presented on April 21, 2021.'"
      ]
     },
     "execution_count": 14,
     "metadata": {},
     "output_type": "execute_result"
    }
   ],
   "source": [
    "qa.run(examples[0][\"query\"])"
   ]
  },
  {
   "cell_type": "code",
   "execution_count": 15,
   "metadata": {},
   "outputs": [
    {
     "name": "stdout",
     "output_type": "stream",
     "text": [
      "\n",
      "\n",
      "\u001b[1m> Entering new  chain...\u001b[0m\n",
      "\n",
      "\u001b[1m> Finished chain.\u001b[0m\n",
      "\n",
      "\n",
      "\u001b[1m> Entering new  chain...\u001b[0m\n",
      "\n",
      "\u001b[1m> Finished chain.\u001b[0m\n",
      "\n",
      "\n",
      "\u001b[1m> Entering new  chain...\u001b[0m\n",
      "\n",
      "\u001b[1m> Finished chain.\u001b[0m\n",
      "\n",
      "\n",
      "\u001b[1m> Entering new  chain...\u001b[0m\n",
      "\n",
      "\u001b[1m> Finished chain.\u001b[0m\n",
      "\n",
      "\n",
      "\u001b[1m> Entering new  chain...\u001b[0m\n",
      "\n",
      "\u001b[1m> Finished chain.\u001b[0m\n",
      "\n",
      "\n",
      "\u001b[1m> Entering new  chain...\u001b[0m\n",
      "\n",
      "\u001b[1m> Finished chain.\u001b[0m\n"
     ]
    }
   ],
   "source": [
    "predictions = qa.apply(examples)"
   ]
  },
  {
   "attachments": {},
   "cell_type": "markdown",
   "metadata": {},
   "source": [
    "LLM assisted evaluation¶"
   ]
  },
  {
   "cell_type": "code",
   "execution_count": null,
   "metadata": {},
   "outputs": [],
   "source": [
    "from langchain.evaluation.qa import QAEvalChain"
   ]
  },
  {
   "cell_type": "code",
   "execution_count": null,
   "metadata": {},
   "outputs": [],
   "source": [
    "llm = ChatOpenAI(temperature=0)\n",
    "eval_chain = QAEvalChain.from_llm(llm)"
   ]
  },
  {
   "cell_type": "code",
   "execution_count": null,
   "metadata": {},
   "outputs": [],
   "source": [
    "graded_outputs = eval_chain.evaluate(examples, predictions)"
   ]
  },
  {
   "cell_type": "code",
   "execution_count": null,
   "metadata": {},
   "outputs": [],
   "source": [
    "for i, eg in enumerate(examples):\n",
    "    print(f\"Example {i}:\")\n",
    "    print(\"Question: \" + predictions[i]['query'])\n",
    "    print(\"Real Answer: \" + predictions[i]['answer'])\n",
    "    print(\"Predicted Answer: \" + predictions[i]['result'])\n",
    "    print(\"Predicted Grade: \" + graded_outputs[i]['text'])\n",
    "    print()"
   ]
  }
 ],
 "metadata": {
  "kernelspec": {
   "display_name": "base",
   "language": "python",
   "name": "python3"
  },
  "language_info": {
   "codemirror_mode": {
    "name": "ipython",
    "version": 3
   },
   "file_extension": ".py",
   "mimetype": "text/x-python",
   "name": "python",
   "nbconvert_exporter": "python",
   "pygments_lexer": "ipython3",
   "version": "3.10.11"
  },
  "orig_nbformat": 4
 },
 "nbformat": 4,
 "nbformat_minor": 2
}
