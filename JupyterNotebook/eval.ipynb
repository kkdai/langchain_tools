{
 "cells": [
  {
   "cell_type": "code",
   "execution_count": 1,
   "metadata": {},
   "outputs": [
    {
     "data": {
      "text/plain": [
       "True"
      ]
     },
     "execution_count": 1,
     "metadata": {},
     "output_type": "execute_result"
    }
   ],
   "source": [
    "from dotenv import load_dotenv\n",
    "import os\n",
    "import pickle\n",
    "\n",
    "# Laden Sie die Umgebungsvariablen aus der .env-Datei\n",
    "load_dotenv()"
   ]
  },
  {
   "cell_type": "code",
   "execution_count": 2,
   "metadata": {},
   "outputs": [],
   "source": [
    "from langchain.chains import ConversationalRetrievalChain\n",
    "from langchain.chat_models import ChatOpenAI\n",
    "from langchain.document_loaders import PyPDFLoader\n",
    "from langchain.embeddings import OpenAIEmbeddings\n",
    "from langchain.memory import ConversationBufferMemory\n",
    "from langchain.vectorstores import Chroma\n",
    "\n",
    "\n",
    "loader = PyPDFLoader(\"./The-AI-Act.pdf\")\n",
    "pages = loader.load_and_split()\n",
    "\n",
    "\n"
   ]
  },
  {
   "cell_type": "code",
   "execution_count": 4,
   "metadata": {},
   "outputs": [
    {
     "data": {
      "text/plain": [
       "Document(page_content='EN 4  EN 1.2. Consistency with existing policy pr ovisions in the policy area  \\nThe horizontal nature of the proposal requires full consistency with existing Union legislation \\napplicable to sectors where high -risk AI systems are already used or likely to be used in the \\nnear future.  \\nConsistency is also ensu red with the EU Charter of Fundamental Rights and the existing \\nsecondary Union legislation on data protection, consumer protection, non -discrimination and \\ngender equality. The proposal is without prejudice and complements the General Data \\nProtection Regula tion (Regulation (EU) 2016/679) and the Law Enforcement Directive \\n(Directive (EU) 2016/680) with a set of harmonised rules applicable to the design, \\ndevelopment and use of certain high -risk AI systems and restrictions on certain uses of remote \\nbiometric id entification systems. Furthermore, the proposal complements existing Union law \\non non -discrimination with specific requirements that aim to minimise the risk of algorithmic \\ndiscrimination, in particular in relation to the design and the quality of data set s used for the \\ndevelopment of AI systems complemented with obligations for testing, risk management, \\ndocumentation and human oversight throughout the AI systems’ lifecycle. The proposal is \\nwithout prejudice to the application of Union competition law.  \\nAs regards high-risk AI systems which are safety components of products, this proposal will \\nbe integrated into the existing sectoral safety legislation to ensure consistency, avoid \\nduplications and minimise additional burdens. In particular, as regards  high-risk AI systems \\nrelated to products covered by the New Legislative Framework (NLF) legislation (e.g. \\nmachinery, medical devices, toys), the requirements for AI systems set out in this proposal \\nwill be checked as part of the existing conformity assessment pro cedures under the relevant \\nNLF legislation. With regard to the interplay of requirements, while the safety risks specific \\nto AI systems are meant to be covered by the requirements of this proposal, NLF legislation \\naims at ensuring the overall safety of the  final product and therefore may contain specific \\nrequirements regarding the safe integration of an AI system into the final product. The \\nproposal for a Machinery Regulation, which is adopted on the same day as this proposal fully \\nreflects this approach. As regards high-risk AI systems related to products  covered by relevant \\nOld Approach legislation (e.g. aviation, cars), this proposal would not directly apply. \\nHowever, the ex -ante essential requirements for high -risk AI systems set out in this proposal \\nwill have to be taken into account when adopting relevant implementing or delegated \\nlegislation under those acts.  \\nAs regards AI systems provided or used by regulated credit institutions , the authorities \\nresponsible for the supervision of the Union’s financial  services legislation should be \\ndesignated as competent authorities for supervising the requirements in this proposal to ensure \\na coherent enforcement of the obligations under this proposal and the Union’s financial \\nservices legislation where AI systems ar e to some extent implicitly regulated in relation to the \\ninternal governance system of credit institutions . To further enhance consistency, the \\nconformity assessment procedure and some of the providers’ procedural obligations under this \\nproposal are integr ated into the procedures under Directive 2013/36/EU on access to the \\nactivity of credit institutions and the prudential supervision14.  \\n                                                 \\n14 Directive 2013/36/EU of the European Parliament and of the Council of 26 June 2013 on access to the \\nactivity of credit institutions and the prudential supervision of credit institutions and investment firms, \\namending Directive 2002 /87/EC and repealing Directives 2006/48/EC and 2006/49/EC Text with EEA \\nrelevance, OJ L 176, 27.6.2013, p. 338 –436.', metadata={'source': './The-AI-Act.pdf', 'page': 4})"
      ]
     },
     "execution_count": 4,
     "metadata": {},
     "output_type": "execute_result"
    }
   ],
   "source": [
    "pages[5]"
   ]
  },
  {
   "cell_type": "code",
   "execution_count": 5,
   "metadata": {},
   "outputs": [],
   "source": [
    "from langchain.evaluation.qa import QAGenerateChain\n",
    "example_gen_chain = QAGenerateChain.from_llm(ChatOpenAI())"
   ]
  },
  {
   "cell_type": "code",
   "execution_count": 6,
   "metadata": {},
   "outputs": [
    {
     "name": "stderr",
     "output_type": "stream",
     "text": [
      "/Users/al02286558/anaconda3/lib/python3.10/site-packages/langchain/chains/llm.py:303: UserWarning: The apply_and_parse method is deprecated, instead pass an output parser directly to LLMChain.\n",
      "  warnings.warn(\n"
     ]
    }
   ],
   "source": [
    "new_examples = example_gen_chain.apply_and_parse(\n",
    "    [{\"doc\": t} for t in pages[:5]]\n",
    ")"
   ]
  },
  {
   "cell_type": "code",
   "execution_count": 7,
   "metadata": {},
   "outputs": [
    {
     "data": {
      "text/plain": [
       "{'query': 'When was the proposal for the Regulation of the European Parliament and of the Council laying down harmonized rules on Artificial Intelligence (AI) presented?',\n",
       " 'answer': 'The proposal for the Regulation of the European Parliament and of the Council laying down harmonized rules on Artificial Intelligence (AI) was presented on April 21, 2021.'}"
      ]
     },
     "execution_count": 7,
     "metadata": {},
     "output_type": "execute_result"
    }
   ],
   "source": [
    "new_examples[0]"
   ]
  },
  {
   "cell_type": "code",
   "execution_count": 12,
   "metadata": {},
   "outputs": [],
   "source": [
    "examples = [\n",
    "    {\n",
    "        'query': 'When was the proposal for the Regulation of the European Parliament and of the Council laying down harmonized rules on Artificial Intelligence (AI) presented?',\n",
    "        'answer': 'The proposal for the Regulation of the European Parliament and of the Council laying down harmonized rules on Artificial Intelligence (AI) was presented on April 21, 2021.'\n",
    "    }\n",
    "]"
   ]
  },
  {
   "cell_type": "code",
   "execution_count": 8,
   "metadata": {},
   "outputs": [],
   "source": [
    "# Creating embeddings and Vectorization\n",
    "embeddings = OpenAIEmbeddings()\n",
    "vectordb = Chroma.from_documents(pages,\n",
    "                                    embedding=embeddings,\n",
    "                                    persist_directory=\".\")\n",
    "vectordb.persist()\n"
   ]
  },
  {
   "cell_type": "code",
   "execution_count": 10,
   "metadata": {},
   "outputs": [],
   "source": [
    "from langchain.chains import RetrievalQA\n",
    "llm = ChatOpenAI(temperature=0.9)\n",
    "qa = RetrievalQA.from_chain_type(\n",
    "    llm=llm, \n",
    "    chain_type=\"stuff\", \n",
    "    retriever=vectordb.as_retriever(), \n",
    "    verbose=True,\n",
    "    chain_type_kwargs = {\n",
    "        \"document_separator\": \"<<<<>>>>>\"\n",
    "    }\n",
    ")"
   ]
  },
  {
   "cell_type": "code",
   "execution_count": 13,
   "metadata": {},
   "outputs": [],
   "source": [
    "examples += new_examples"
   ]
  },
  {
   "cell_type": "code",
   "execution_count": 14,
   "metadata": {},
   "outputs": [
    {
     "name": "stdout",
     "output_type": "stream",
     "text": [
      "\n",
      "\n",
      "\u001b[1m> Entering new  chain...\u001b[0m\n",
      "\n",
      "\u001b[1m> Finished chain.\u001b[0m\n"
     ]
    },
    {
     "data": {
      "text/plain": [
       "'The proposal for the Regulation of the European Parliament and of the Council laying down harmonized rules on Artificial Intelligence (AI) was presented on April 21, 2021.'"
      ]
     },
     "execution_count": 14,
     "metadata": {},
     "output_type": "execute_result"
    }
   ],
   "source": [
    "qa.run(examples[0][\"query\"])"
   ]
  },
  {
   "cell_type": "code",
   "execution_count": 15,
   "metadata": {},
   "outputs": [
    {
     "name": "stdout",
     "output_type": "stream",
     "text": [
      "\n",
      "\n",
      "\u001b[1m> Entering new  chain...\u001b[0m\n",
      "\n",
      "\u001b[1m> Finished chain.\u001b[0m\n",
      "\n",
      "\n",
      "\u001b[1m> Entering new  chain...\u001b[0m\n",
      "\n",
      "\u001b[1m> Finished chain.\u001b[0m\n",
      "\n",
      "\n",
      "\u001b[1m> Entering new  chain...\u001b[0m\n",
      "\n",
      "\u001b[1m> Finished chain.\u001b[0m\n",
      "\n",
      "\n",
      "\u001b[1m> Entering new  chain...\u001b[0m\n",
      "\n",
      "\u001b[1m> Finished chain.\u001b[0m\n",
      "\n",
      "\n",
      "\u001b[1m> Entering new  chain...\u001b[0m\n",
      "\n",
      "\u001b[1m> Finished chain.\u001b[0m\n",
      "\n",
      "\n",
      "\u001b[1m> Entering new  chain...\u001b[0m\n",
      "\n",
      "\u001b[1m> Finished chain.\u001b[0m\n"
     ]
    }
   ],
   "source": [
    "predictions = qa.apply(examples)"
   ]
  },
  {
   "attachments": {},
   "cell_type": "markdown",
   "metadata": {},
   "source": [
    "LLM assisted evaluation¶"
   ]
  },
  {
   "cell_type": "code",
   "execution_count": 16,
   "metadata": {},
   "outputs": [],
   "source": [
    "from langchain.evaluation.qa import QAEvalChain"
   ]
  },
  {
   "cell_type": "code",
   "execution_count": 17,
   "metadata": {},
   "outputs": [],
   "source": [
    "llm = ChatOpenAI(temperature=0)\n",
    "eval_chain = QAEvalChain.from_llm(llm)"
   ]
  },
  {
   "cell_type": "code",
   "execution_count": 18,
   "metadata": {},
   "outputs": [],
   "source": [
    "graded_outputs = eval_chain.evaluate(examples, predictions)"
   ]
  },
  {
   "cell_type": "code",
   "execution_count": 19,
   "metadata": {},
   "outputs": [
    {
     "name": "stdout",
     "output_type": "stream",
     "text": [
      "Example 0:\n",
      "Question: When was the proposal for the Regulation of the European Parliament and of the Council laying down harmonized rules on Artificial Intelligence (AI) presented?\n",
      "Real Answer: The proposal for the Regulation of the European Parliament and of the Council laying down harmonized rules on Artificial Intelligence (AI) was presented on April 21, 2021.\n",
      "Predicted Answer: The proposal for the Regulation of the European Parliament and of the Council laying down harmonized rules on Artificial Intelligence (AI) was presented on April 21, 2021.\n",
      "Predicted Grade: CORRECT\n",
      "\n",
      "Example 1:\n",
      "Question: When was the proposal for the Regulation of the European Parliament and of the Council laying down harmonized rules on Artificial Intelligence (AI) presented?\n",
      "Real Answer: The proposal for the Regulation of the European Parliament and of the Council laying down harmonized rules on Artificial Intelligence (AI) was presented on April 21, 2021.\n",
      "Predicted Answer: The proposal for the Regulation of the European Parliament and of the Council laying down harmonized rules on Artificial Intelligence (AI) was presented on April 21, 2021.\n",
      "Predicted Grade: CORRECT\n",
      "\n",
      "Example 2:\n",
      "Question: What is the objective of the proposal for a Regulation on artificial intelligence (Artificial Intelligence Act)?\n",
      "Real Answer: The objective of the proposal for a Regulation on artificial intelligence (Artificial Intelligence Act) is to lay down harmonised rules on artificial intelligence and create a legal framework for trustworthy AI. The proposal aims to implement an ecosystem of trust by promoting the development of AI solutions that are safe, compliant with the law, and respectful of fundamental rights. The ultimate aim is to increase human well-being and ensure that AI is a force for good in society.\n",
      "Predicted Answer: The objective of the proposal for a Regulation on artificial intelligence (Artificial Intelligence Act) is to ensure the proper functioning of the single market by creating the conditions for the development and use of trustworthy artificial intelligence in the European Union. The proposal aims to achieve the following specific objectives:\n",
      "\n",
      "1. Set requirements specific to AI systems and obligations on all value chain participants to ensure that AI systems placed on the market and used are safe and respect existing law on fundamental rights and Union values.\n",
      "\n",
      "2. Ensure legal certainty to facilitate investment and innovation in AI by providing clear requirements, obligations, and conformity procedures for placing or using an AI system in the Union market.\n",
      "\n",
      "3. Enhance governance and effective enforcement of existing law on fundamental rights and safety requirements applicable to AI systems by providing new powers, resources, and clear rules for relevant authorities.\n",
      "\n",
      "4. Facilitate the development of a single market for lawful, safe, and trustworthy AI applications and prevent market fragmentation.\n",
      "\n",
      "The proposal aims to achieve these objectives through a balanced and proportionate regulatory approach that addresses the risks and problems associated with AI while not unduly constraining technological development or increasing the cost of placing AI solutions on the market. It sets harmonized rules for the development, placement on the market, and use of AI systems, with a focus on high-risk AI systems that pose significant risks to health, safety, or fundamental rights.\n",
      "Predicted Grade: CORRECT\n",
      "\n",
      "Example 3:\n",
      "Question: According to the document, what did the European Council call for in 2017 regarding artificial intelligence?\n",
      "Real Answer: In 2017, the European Council called for a 'sense of urgency to address emerging trends' including 'issues such as artificial intelligence', while ensuring a high level of data protection, digital rights, and ethical standards.\n",
      "Predicted Answer: In 2017, the European Council called for a 'sense of urgency to address emerging trends' including 'issues such as artificial intelligence', while ensuring a high level of data protection, digital rights, and ethical standards. They emphasized the importance of respecting European citizens' rights and called for a review of existing legislation to make it fit for the opportunities and challenges brought by AI. They also called for a clear determination of AI applications that should be considered high-risk.\n",
      "Predicted Grade: CORRECT\n",
      "\n",
      "Example 4:\n",
      "Question: What is the name of the Commission Communication that foresees the development of ethical guidelines in AI and Data usage in education?\n",
      "Real Answer: The Commission Communication is called \"COM(2020) 624 final.\"\n",
      "Predicted Answer: The Commission Communication that foresees the development of ethical guidelines in AI and Data usage in education is called \"Digital Education Action Plan 2021-2027: Resetting education and training for the digital age\" (Commission Communication COM(2020) 624 final).\n",
      "Predicted Grade: CORRECT\n",
      "\n",
      "Example 5:\n",
      "Question: What are the specific objectives of the proposed regulatory framework on Artificial Intelligence?\n",
      "Real Answer: The specific objectives of the proposed regulatory framework on Artificial Intelligence are as follows: \n",
      "Predicted Answer: The specific objectives of the proposed regulatory framework on Artificial Intelligence are as follows:\n",
      "\n",
      "1. Ensure that AI systems placed on the Union market and used are safe and respect existing law on fundamental rights and Union values.\n",
      "\n",
      "2. Ensure legal certainty to facilitate investment and innovation in AI.\n",
      "\n",
      "3. Enhance governance and effective enforcement of existing law on fundamental rights and safety requirements applicable to AI systems.\n",
      "\n",
      "4. Facilitate the development of a single market for lawful, safe, and trustworthy AI applications and prevent market fragmentation.\n",
      "Predicted Grade: CORRECT\n",
      "\n"
     ]
    }
   ],
   "source": [
    "for i, eg in enumerate(examples):\n",
    "    print(f\"Example {i}:\")\n",
    "    print(\"Question: \" + predictions[i]['query'])\n",
    "    print(\"Real Answer: \" + predictions[i]['answer'])\n",
    "    print(\"Predicted Answer: \" + predictions[i]['result'])\n",
    "    print(\"Predicted Grade: \" + graded_outputs[i]['text'])\n",
    "    print()"
   ]
  },
  {
   "cell_type": "code",
   "execution_count": null,
   "metadata": {},
   "outputs": [],
   "source": []
  }
 ],
 "metadata": {
  "kernelspec": {
   "display_name": "base",
   "language": "python",
   "name": "python3"
  },
  "language_info": {
   "codemirror_mode": {
    "name": "ipython",
    "version": 3
   },
   "file_extension": ".py",
   "mimetype": "text/x-python",
   "name": "python",
   "nbconvert_exporter": "python",
   "pygments_lexer": "ipython3",
   "version": "3.10.11"
  },
  "orig_nbformat": 4
 },
 "nbformat": 4,
 "nbformat_minor": 2
}
