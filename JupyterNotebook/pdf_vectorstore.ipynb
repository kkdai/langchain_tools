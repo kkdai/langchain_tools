{
 "cells": [
  {
   "cell_type": "code",
   "execution_count": 1,
   "metadata": {},
   "outputs": [],
   "source": [
    "from dotenv import load_dotenv\n",
    "import os\n",
    "import pickle\n",
    "\n",
    "# Laden Sie die Umgebungsvariablen aus der .env-Datei\n",
    "load_dotenv()\n",
    "API_KEY = os.environ.get(\"OPEN_API_KEY\")"
   ]
  },
  {
   "cell_type": "code",
   "execution_count": 2,
   "metadata": {},
   "outputs": [],
   "source": [
    "from langchain.document_loaders import PyPDFLoader  # for loading the pdf\n",
    "from langchain.embeddings import OpenAIEmbeddings  # for creating embeddings\n",
    "from langchain.vectorstores import Chroma  # for the vectorization part\n",
    "from langchain.chains import ChatVectorDBChain  # for chatting with the pdf\n",
    "from langchain.llms import OpenAI  # the LLM model we'll use (CHatGPT)\n",
    "\n"
   ]
  },
  {
   "cell_type": "code",
   "execution_count": 3,
   "metadata": {},
   "outputs": [],
   "source": [
    "\n",
    "pdf_path = \"The-AI-Act.pdf\"\n",
    "loader = PyPDFLoader(pdf_path)\n",
    "pages = loader.load_and_split()\n"
   ]
  },
  {
   "cell_type": "code",
   "execution_count": 4,
   "metadata": {},
   "outputs": [
    {
     "data": {
      "text/plain": [
       "120"
      ]
     },
     "execution_count": 4,
     "metadata": {},
     "output_type": "execute_result"
    }
   ],
   "source": [
    "len(pages)"
   ]
  },
  {
   "cell_type": "code",
   "execution_count": 5,
   "metadata": {},
   "outputs": [
    {
     "name": "stderr",
     "output_type": "stream",
     "text": [
      "100%|██████████| 1/1 [00:02<00:00,  2.87s/it]\n"
     ]
    }
   ],
   "source": [
    "# 2. Creating embeddings and Vectorization\n",
    "embeddings = OpenAIEmbeddings()\n",
    "vectordb = Chroma.from_documents(pages, embedding=embeddings,\n",
    "                                 persist_directory=\".\")\n",
    "vectordb.persist()\n",
    "\n"
   ]
  },
  {
   "cell_type": "code",
   "execution_count": 13,
   "metadata": {},
   "outputs": [
    {
     "data": {
      "text/plain": [
       "[Document(page_content='EN 1  EN EXPLANATORY MEMORANDUM  \\n1. CONTEXT  OF THE  PROPOSAL  \\n1.1. Reasons for and objectives of the proposal  \\nThis explanatory memorandum accompanies the proposal for a Regulation laying down \\nharmonised rules on artificial intelligence (Artificial Intelligence Act). Artificial Intelligence \\n(AI) is a fast evolving family of technologies that can bring a wide array of economic and \\nsocietal benefits across the entire s pectrum of industries and social activities. By improving \\nprediction, optimising operations and resource allocation, and personalising service delivery, \\nthe use of artificial intelligence can support socially and environmentally beneficial outcomes \\nand pro vide key competitive advantages to companies and the European economy. Such \\naction is especially needed in high -impact sectors, including climate change, environment and \\nhealth, the public sector, finance, mobility, home affairs and agriculture. However, t he same \\nelements and techniques that power the socio -economic benefits of AI can also bring about \\nnew risks or negative consequences for individuals or the society. In light of the speed of \\ntechnological change and possible challenges, the EU is committed to strive for a balanced \\napproach.  It is in the Union interest to preserve the EU’s technological leadership and to \\nensure that Europeans can benefit from new technologies developed and functioning \\naccording to Union values, fundamental rights and principl es. \\nThis proposal delivers on the political commitment by President von der Leyen, who \\nannounced in her political guidelines for the 2019 -2024 Commission “A Union that strives for \\nmore”1, that the Commission would put forward legislation for a coordinated European \\napproach on the human and ethical implications of AI. Following on that announcement, on \\n19 February 2020 the Commission published the White Paper on AI - A European approach \\nto excellence and trust2. The White Paper sets out policy options on how  to achieve the twin \\nobjective of promoting the uptake of AI and of addressing the risks associated with certain \\nuses of such technology. This proposal aims to implement the second objective for the \\ndevelopment of an ecosystem of trust by proposing a legal  framework for trustworthy AI. The \\nproposal is based on EU values and fundamental rights and aims to give people and other \\nusers the confidence to embrace AI -based solutions, while encouraging businesses to develop \\nthem. AI should be a tool for people and be a force for good in society with the ultimate aim \\nof increasing human well -being. Rules for AI available in the Union market or otherwise \\naffecting people in the Union should therefore be human centric, so that people can trust that \\nthe technology is us ed in a way that is safe and compliant with the law, including the respect \\nof fundamental rights. Following the publication of the White Paper, the Commission \\nlaunched a broad stakeholder consultation,  which was met with a great interest by a large \\nnumber of stakeholders who were largely supportive of regulatory intervention to address the \\nchallenges and concerns raised by the increasing use of AI.  \\nThe proposal also responds to explicit requests from the European Parliament (EP) and the \\nEuropean  Council, w hich have repeatedly expressed calls for legislative action to ensure a \\nwell-functioning internal market for artificial intelligence systems (‘AI systems’) where both \\nbenefits and risks of AI are adequately addressed at Union level.  It supports the objecti ve of \\nthe Union being a global leader in the development of secure, trustworthy and ethical artificial \\n                                                 \\n1 https://ec.europa.eu/commission/sites/beta -political/files/political -guidelines -next-commission_en.pdf  \\n2 European Commission, White Paper on Artificial Intelligence - A European approach to excellence and \\ntrust, COM(2020) 65 final, 2020.', metadata={'source': './The-AI-Act.pdf', 'page': 1}),\n",
       " Document(page_content='EN 1  EN EXPLANATORY MEMORANDUM  \\n1. CONTEXT  OF THE  PROPOSAL  \\n1.1. Reasons for and objectives of the proposal  \\nThis explanatory memorandum accompanies the proposal for a Regulation laying down \\nharmonised rules on artificial intelligence (Artificial Intelligence Act). Artificial Intelligence \\n(AI) is a fast evolving family of technologies that can bring a wide array of economic and \\nsocietal benefits across the entire s pectrum of industries and social activities. By improving \\nprediction, optimising operations and resource allocation, and personalising service delivery, \\nthe use of artificial intelligence can support socially and environmentally beneficial outcomes \\nand pro vide key competitive advantages to companies and the European economy. Such \\naction is especially needed in high -impact sectors, including climate change, environment and \\nhealth, the public sector, finance, mobility, home affairs and agriculture. However, t he same \\nelements and techniques that power the socio -economic benefits of AI can also bring about \\nnew risks or negative consequences for individuals or the society. In light of the speed of \\ntechnological change and possible challenges, the EU is committed to strive for a balanced \\napproach.  It is in the Union interest to preserve the EU’s technological leadership and to \\nensure that Europeans can benefit from new technologies developed and functioning \\naccording to Union values, fundamental rights and principl es. \\nThis proposal delivers on the political commitment by President von der Leyen, who \\nannounced in her political guidelines for the 2019 -2024 Commission “A Union that strives for \\nmore”1, that the Commission would put forward legislation for a coordinated European \\napproach on the human and ethical implications of AI. Following on that announcement, on \\n19 February 2020 the Commission published the White Paper on AI - A European approach \\nto excellence and trust2. The White Paper sets out policy options on how  to achieve the twin \\nobjective of promoting the uptake of AI and of addressing the risks associated with certain \\nuses of such technology. This proposal aims to implement the second objective for the \\ndevelopment of an ecosystem of trust by proposing a legal  framework for trustworthy AI. The \\nproposal is based on EU values and fundamental rights and aims to give people and other \\nusers the confidence to embrace AI -based solutions, while encouraging businesses to develop \\nthem. AI should be a tool for people and be a force for good in society with the ultimate aim \\nof increasing human well -being. Rules for AI available in the Union market or otherwise \\naffecting people in the Union should therefore be human centric, so that people can trust that \\nthe technology is us ed in a way that is safe and compliant with the law, including the respect \\nof fundamental rights. Following the publication of the White Paper, the Commission \\nlaunched a broad stakeholder consultation,  which was met with a great interest by a large \\nnumber of stakeholders who were largely supportive of regulatory intervention to address the \\nchallenges and concerns raised by the increasing use of AI.  \\nThe proposal also responds to explicit requests from the European Parliament (EP) and the \\nEuropean  Council, w hich have repeatedly expressed calls for legislative action to ensure a \\nwell-functioning internal market for artificial intelligence systems (‘AI systems’) where both \\nbenefits and risks of AI are adequately addressed at Union level.  It supports the objecti ve of \\nthe Union being a global leader in the development of secure, trustworthy and ethical artificial \\n                                                 \\n1 https://ec.europa.eu/commission/sites/beta -political/files/political -guidelines -next-commission_en.pdf  \\n2 European Commission, White Paper on Artificial Intelligence - A European approach to excellence and \\ntrust, COM(2020) 65 final, 2020.', metadata={'source': 'The-AI-Act.pdf', 'page': 1})]"
      ]
     },
     "execution_count": 13,
     "metadata": {},
     "output_type": "execute_result"
    }
   ],
   "source": [
    "query = \"What is the bitcoin?\"\n",
    "vectordb.similarity_search(query, k=2, filter={\"page\": 1})"
   ]
  },
  {
   "cell_type": "code",
   "execution_count": 10,
   "metadata": {},
   "outputs": [
    {
     "data": {
      "text/plain": [
       "[Document(page_content=\"EN 91  EN LEGISLATIVE FINANCIAL STATEMENT  \\n1. FRAMEWORK  OF THE  PROPOSAL/INITIATIVE   \\n1.1. Title of the proposal/initiative  \\nRegulation of the European Parliament and of the Council Laying Down Harmonised \\nRules on Artificial Intelligence (Artificial Intelligence Act) and Amending Certain \\nUnion Legislative Acts  \\n1.2. Policy area(s) concerned  \\nCommunications Networks, Content and Technology;  \\nInternal Market, Industry, Entrepreneurship and SMEs;  \\nThe budgetary impact concerns the new tasks entrusted with the Commission, \\nincluding the support to the EU AI Board;  \\nActivity: Shaping Europe's digital future.  \\n1.3. The proposal/initiative relates to:  \\nX  a new action   \\n\\uf0a8 a new action following a pilot project/preparatory action64  \\n\\uf0a8 the extension of an existing action   \\n\\uf0a8 an action redirected towards a new action   \\n1.4. Objective(s)  \\n1.4.1.  General objective( s)  \\nThe general objective of the intervention is to ensure the proper functioning of the \\nsingle market by creating the conditions for the development and use of trustworthy \\nartificial intelligence in the Union.  \\n1.4.2.  Specific objective(s)  \\nSpecific objective No 1  \\nTo set requirements specific to AI systems and obligations on all value chain \\nparticipants in order to ensure that AI systems placed on the market and used are safe \\nand respect existing law on fundamental rights and Union values;  \\nSpecific ob jective No 2  \\nTo ensure legal certainty to facilitate investment and innovation in AI by making it \\nclear what essential requirements, obligations, as well as conformity and compliance \\nprocedures must be followed to place or use an AI system in the Union mar ket; \\nSpecific objective No 3  \\nTo enhance governance and effective enforcement of existing law on fundamental \\nrights and safety requirements applicable to AI systems by providing new powers, \\nresources and clear rules for relevant authorities on conformity as sessment and ex \\n                                                 \\n64 As referred to in Article 54(2)(a) or (b) of the Financial  Regulation\", metadata={'source': './The-AI-Act.pdf', 'page': 91}),\n",
       " Document(page_content='judicial authorities in criminal matters,  2020/2016(INI) .  \\n13 European Parliament Draft Report, Artificial intelligence in education, culture and the audiovisual \\nsector, 2020/2017(INI) . In that regard, the Commission has adopted the Digital Education Action Plan \\n2021 -2027: Resetting education and training for the digital age, which foresees the development of \\nethical guidelines in AI and Data usage in education – Commission Communicatio n COM(2020) 624 \\nfinal.', metadata={'source': 'The-AI-Act.pdf', 'page': 2})]"
      ]
     },
     "execution_count": 10,
     "metadata": {},
     "output_type": "execute_result"
    }
   ],
   "source": [
    "vectordb.max_marginal_relevance_search(query,k=2, fetch_k=3)"
   ]
  },
  {
   "cell_type": "code",
   "execution_count": null,
   "metadata": {},
   "outputs": [],
   "source": [
    "\n",
    "\n",
    "# 3. Querying\n",
    "llm = OpenAI(temperature=0.9, model_name=\"gpt-3.5-turbo\")\n",
    "pdf_qa = ChatVectorDBChain.from_llm(\n",
    "    llm, vectordb, return_source_documents=True)\n",
    "\n",
    "query = \"What is the bitcoin?\"\n",
    "result = pdf_qa({\"question\": query, \"chat_history\": \"\"})\n",
    "print(\"Answer:\")\n",
    "print(result[\"answer\"])\n",
    "\n",
    "chat_history = [(query, result[\"answer\"])]\n",
    "query2 = \"When it be found?\"\n",
    "result = pdf_qa({\"question\": query2, \"chat_history\": chat_history})\n",
    "print(\"Answer2:\")\n",
    "print(result[\"answer\"])"
   ]
  }
 ],
 "metadata": {
  "kernelspec": {
   "display_name": "base",
   "language": "python",
   "name": "python3"
  },
  "language_info": {
   "codemirror_mode": {
    "name": "ipython",
    "version": 3
   },
   "file_extension": ".py",
   "mimetype": "text/x-python",
   "name": "python",
   "nbconvert_exporter": "python",
   "pygments_lexer": "ipython3",
   "version": "3.10.11"
  },
  "orig_nbformat": 4
 },
 "nbformat": 4,
 "nbformat_minor": 2
}
