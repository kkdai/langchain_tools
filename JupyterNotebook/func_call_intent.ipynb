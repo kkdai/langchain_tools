{
 "cells": [
  {
   "cell_type": "code",
   "execution_count": 1,
   "metadata": {},
   "outputs": [],
   "source": [
    "from dotenv import load_dotenv\n",
    "import os\n",
    "import pickle\n",
    "\n",
    "# Laden Sie die Umgebungsvariablen aus der .env-Datei\n",
    "load_dotenv()\n",
    "API_KEY = os.environ.get(\"OPENAI_API_KEY\")"
   ]
  },
  {
   "cell_type": "code",
   "execution_count": 3,
   "metadata": {},
   "outputs": [
    {
     "name": "stdout",
     "output_type": "stream",
     "text": [
      "{'id': 'chatcmpl-7ijLN5bRDFMC8uA8JQnWWqGTImrMh', 'object': 'chat.completion', 'created': 1690895089, 'model': 'gpt-3.5-turbo-0613', 'choices': [{'index': 0, 'message': {'role': 'assistant', 'content': None, 'function_call': {'name': 'cancel_the_taxi', 'arguments': '{\\n  \"query_string\": \"車子都不來，我要取消訂單。\"\\n}'}}, 'finish_reason': 'function_call'}], 'usage': {'prompt_tokens': 71, 'completion_tokens': 34, 'total_tokens': 105}}\n",
      "Function call name: cancel_the_taxi\n"
     ]
    }
   ],
   "source": [
    "import requests\n",
    "\n",
    "def create_custom_function(name, description):\n",
    "    custom_function = {\n",
    "        \"name\": name,\n",
    "        \"description\": description,\n",
    "        \"parameters\": {\n",
    "            \"type\": \"object\",\n",
    "            \"properties\": {\n",
    "                \"query_string\": {\n",
    "                    \"type\": \"string\",\n",
    "                    \"description\": \"Original full string of the query.\"\n",
    "                }\n",
    "            },\n",
    "            \"required\": [\"query_string\"]\n",
    "        }\n",
    "    }\n",
    "    return custom_function\n",
    "\n",
    "def call_openai_chat_api(query_string, functions):\n",
    "    api_key = API_KEY  # Replace with your actual OpenAI API key\n",
    "\n",
    "    url = \"https://api.openai.com/v1/chat/completions\"\n",
    "    headers = {\n",
    "        \"Authorization\": f\"Bearer {api_key}\",\n",
    "        \"Content-Type\": \"application/json\",\n",
    "    }\n",
    "\n",
    "    payload = {\n",
    "        \"model\": \"gpt-3.5-turbo-0613\",\n",
    "        \"messages\": [{\"role\": \"user\", \"content\": query_string}],\n",
    "        \"functions\": functions\n",
    "    }\n",
    "\n",
    "    response = requests.post(url, headers=headers, json=payload)\n",
    "    response_data = response.json()\n",
    "    return response_data\n",
    "\n",
    "# Example usage:\n",
    "if __name__ == \"__main__\":\n",
    "    query_string = \"車子都不來，我要取消訂單。\"\n",
    "\n",
    "    custom_function1 = create_custom_function(\"cancel_the_taxi\", \"Cancel the taxi.\")\n",
    "    #custom_function2 = create_custom_function(\"custom_function_2\", \"Description of custom_function_2\")\n",
    "\n",
    "    functions_list = [custom_function1]#, custom_function2]\n",
    "\n",
    "    response_data = call_openai_chat_api(query_string, functions_list)\n",
    "    print(response_data)\n",
    "    if response_data['choices'][0]['message']:\n",
    "        function_call_name = response_data['choices'][0]['message']['function_call']['name']\n",
    "        print(\"Function call name:\", function_call_name)\n"
   ]
  }
 ],
 "metadata": {
  "kernelspec": {
   "display_name": "Python 3",
   "language": "python",
   "name": "python3"
  },
  "language_info": {
   "codemirror_mode": {
    "name": "ipython",
    "version": 3
   },
   "file_extension": ".py",
   "mimetype": "text/x-python",
   "name": "python",
   "nbconvert_exporter": "python",
   "pygments_lexer": "ipython3",
   "version": "3.10.11"
  },
  "orig_nbformat": 4
 },
 "nbformat": 4,
 "nbformat_minor": 2
}
